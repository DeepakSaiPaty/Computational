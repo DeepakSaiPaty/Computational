{
  "nbformat": 4,
  "nbformat_minor": 0,
  "metadata": {
    "colab": {
      "name": "Copy of Machine_learning_model.ipynb",
      "provenance": [],
      "authorship_tag": "ABX9TyMeNK4ZYSqNaq+ztSNSCQ7S",
      "include_colab_link": true
    },
    "kernelspec": {
      "name": "python3",
      "display_name": "Python 3"
    }
  },
  "cells": [
    {
      "cell_type": "markdown",
      "metadata": {
        "id": "view-in-github",
        "colab_type": "text"
      },
      "source": [
        "<a href=\"https://colab.research.google.com/github/DeepakSaiPaty/Computational/blob/master/Machine_learning_model.ipynb\" target=\"_parent\"><img src=\"https://colab.research.google.com/assets/colab-badge.svg\" alt=\"Open In Colab\"/></a>"
      ]
    },
    {
      "cell_type": "code",
      "metadata": {
        "id": "MdeW4pSy0kwX",
        "colab_type": "code",
        "outputId": "c576368a-1e05-49cc-f074-39f5d1090e88",
        "colab": {
          "base_uri": "https://localhost:8080/",
          "height": 430
        }
      },
      "source": [
        "import pandas as pd\n",
        "data=pd.read_csv('EuropeData.csv')  #Data read to dataframe\n",
        "data"
      ],
      "execution_count": 0,
      "outputs": [
        {
          "output_type": "execute_result",
          "data": {
            "text/html": [
              "<div>\n",
              "<style scoped>\n",
              "    .dataframe tbody tr th:only-of-type {\n",
              "        vertical-align: middle;\n",
              "    }\n",
              "\n",
              "    .dataframe tbody tr th {\n",
              "        vertical-align: top;\n",
              "    }\n",
              "\n",
              "    .dataframe thead th {\n",
              "        text-align: right;\n",
              "    }\n",
              "</style>\n",
              "<table border=\"1\" class=\"dataframe\">\n",
              "  <thead>\n",
              "    <tr style=\"text-align: right;\">\n",
              "      <th></th>\n",
              "      <th>Date</th>\n",
              "      <th>Number_New_Cases_Spain</th>\n",
              "      <th>Temperature_Spain</th>\n",
              "      <th>Absolute_Humidity_Spain</th>\n",
              "      <th>Relative_Humidity_Spain</th>\n",
              "      <th>Number_New_Cases_France</th>\n",
              "      <th>Temperature_France</th>\n",
              "      <th>Absolute_Humidity_France</th>\n",
              "      <th>Relative_Humidity_France</th>\n",
              "      <th>Number_New_Cases_Italy</th>\n",
              "      <th>Temperature_Italy</th>\n",
              "      <th>Absolute_Humidity_Italy</th>\n",
              "      <th>Relative_Humidity_Italy</th>\n",
              "      <th>Number_New_Cases_Germany</th>\n",
              "      <th>Temperature_Germany</th>\n",
              "      <th>Absolute_Humidity_Germany</th>\n",
              "      <th>Relative_Humidity_Germany</th>\n",
              "      <th>Number_New_Cases_UK</th>\n",
              "      <th>Temperature_UK</th>\n",
              "      <th>Absolute_Humidity_UK</th>\n",
              "      <th>Relative_Humidity_UK</th>\n",
              "    </tr>\n",
              "  </thead>\n",
              "  <tbody>\n",
              "    <tr>\n",
              "      <th>0</th>\n",
              "      <td>3/1/2020</td>\n",
              "      <td>28</td>\n",
              "      <td>10.444444</td>\n",
              "      <td>7.166939</td>\n",
              "      <td>74.18</td>\n",
              "      <td>43</td>\n",
              "      <td>6.055556</td>\n",
              "      <td>6.214558</td>\n",
              "      <td>85.31</td>\n",
              "      <td>240</td>\n",
              "      <td>13.722222</td>\n",
              "      <td>9.195457</td>\n",
              "      <td>77.58</td>\n",
              "      <td>54</td>\n",
              "      <td>7.277778</td>\n",
              "      <td>5.619926</td>\n",
              "      <td>71.24</td>\n",
              "      <td>5</td>\n",
              "      <td>7.111111</td>\n",
              "      <td>5.019443</td>\n",
              "      <td>64.32</td>\n",
              "    </tr>\n",
              "    <tr>\n",
              "      <th>1</th>\n",
              "      <td>3/2/2020</td>\n",
              "      <td>54</td>\n",
              "      <td>10.055556</td>\n",
              "      <td>5.498560</td>\n",
              "      <td>58.33</td>\n",
              "      <td>30</td>\n",
              "      <td>6.722222</td>\n",
              "      <td>6.555864</td>\n",
              "      <td>86.16</td>\n",
              "      <td>561</td>\n",
              "      <td>13.444444</td>\n",
              "      <td>9.640647</td>\n",
              "      <td>82.74</td>\n",
              "      <td>18</td>\n",
              "      <td>6.055556</td>\n",
              "      <td>6.036812</td>\n",
              "      <td>82.87</td>\n",
              "      <td>13</td>\n",
              "      <td>6.333333</td>\n",
              "      <td>5.479149</td>\n",
              "      <td>73.86</td>\n",
              "    </tr>\n",
              "    <tr>\n",
              "      <th>2</th>\n",
              "      <td>3/3/2020</td>\n",
              "      <td>56</td>\n",
              "      <td>9.388889</td>\n",
              "      <td>5.900187</td>\n",
              "      <td>65.30</td>\n",
              "      <td>48</td>\n",
              "      <td>5.333333</td>\n",
              "      <td>5.342306</td>\n",
              "      <td>76.90</td>\n",
              "      <td>347</td>\n",
              "      <td>11.111111</td>\n",
              "      <td>6.883009</td>\n",
              "      <td>68.31</td>\n",
              "      <td>28</td>\n",
              "      <td>4.666667</td>\n",
              "      <td>5.842645</td>\n",
              "      <td>87.89</td>\n",
              "      <td>4</td>\n",
              "      <td>5.444444</td>\n",
              "      <td>5.330462</td>\n",
              "      <td>76.17</td>\n",
              "    </tr>\n",
              "    <tr>\n",
              "      <th>3</th>\n",
              "      <td>3/4/2020</td>\n",
              "      <td>75</td>\n",
              "      <td>13.611111</td>\n",
              "      <td>7.330460</td>\n",
              "      <td>62.27</td>\n",
              "      <td>34</td>\n",
              "      <td>5.777778</td>\n",
              "      <td>6.186065</td>\n",
              "      <td>86.48</td>\n",
              "      <td>466</td>\n",
              "      <td>9.333333</td>\n",
              "      <td>6.480765</td>\n",
              "      <td>71.98</td>\n",
              "      <td>39</td>\n",
              "      <td>4.388889</td>\n",
              "      <td>5.093776</td>\n",
              "      <td>78.05</td>\n",
              "      <td>11</td>\n",
              "      <td>5.333333</td>\n",
              "      <td>5.955733</td>\n",
              "      <td>85.73</td>\n",
              "    </tr>\n",
              "    <tr>\n",
              "      <th>4</th>\n",
              "      <td>3/5/2020</td>\n",
              "      <td>81</td>\n",
              "      <td>11.888889</td>\n",
              "      <td>6.546492</td>\n",
              "      <td>61.88</td>\n",
              "      <td>73</td>\n",
              "      <td>9.000000</td>\n",
              "      <td>8.207548</td>\n",
              "      <td>93.12</td>\n",
              "      <td>587</td>\n",
              "      <td>9.888889</td>\n",
              "      <td>6.227039</td>\n",
              "      <td>66.76</td>\n",
              "      <td>66</td>\n",
              "      <td>5.166667</td>\n",
              "      <td>5.079839</td>\n",
              "      <td>73.93</td>\n",
              "      <td>34</td>\n",
              "      <td>6.166667</td>\n",
              "      <td>6.567392</td>\n",
              "      <td>89.50</td>\n",
              "    </tr>\n",
              "    <tr>\n",
              "      <th>...</th>\n",
              "      <td>...</td>\n",
              "      <td>...</td>\n",
              "      <td>...</td>\n",
              "      <td>...</td>\n",
              "      <td>...</td>\n",
              "      <td>...</td>\n",
              "      <td>...</td>\n",
              "      <td>...</td>\n",
              "      <td>...</td>\n",
              "      <td>...</td>\n",
              "      <td>...</td>\n",
              "      <td>...</td>\n",
              "      <td>...</td>\n",
              "      <td>...</td>\n",
              "      <td>...</td>\n",
              "      <td>...</td>\n",
              "      <td>...</td>\n",
              "      <td>...</td>\n",
              "      <td>...</td>\n",
              "      <td>...</td>\n",
              "      <td>...</td>\n",
              "    </tr>\n",
              "    <tr>\n",
              "      <th>87</th>\n",
              "      <td>5/27/2020</td>\n",
              "      <td>510</td>\n",
              "      <td>23.055556</td>\n",
              "      <td>9.093356</td>\n",
              "      <td>44.10</td>\n",
              "      <td>276</td>\n",
              "      <td>20.944444</td>\n",
              "      <td>8.688478</td>\n",
              "      <td>47.59</td>\n",
              "      <td>397</td>\n",
              "      <td>20.000000</td>\n",
              "      <td>6.071553</td>\n",
              "      <td>35.14</td>\n",
              "      <td>362</td>\n",
              "      <td>15.888889</td>\n",
              "      <td>7.744835</td>\n",
              "      <td>57.25</td>\n",
              "      <td>4043</td>\n",
              "      <td>19.222222</td>\n",
              "      <td>9.047269</td>\n",
              "      <td>54.81</td>\n",
              "    </tr>\n",
              "    <tr>\n",
              "      <th>88</th>\n",
              "      <td>5/28/2020</td>\n",
              "      <td>1137</td>\n",
              "      <td>22.666667</td>\n",
              "      <td>7.445183</td>\n",
              "      <td>36.92</td>\n",
              "      <td>191</td>\n",
              "      <td>19.166667</td>\n",
              "      <td>7.961438</td>\n",
              "      <td>48.39</td>\n",
              "      <td>584</td>\n",
              "      <td>19.166667</td>\n",
              "      <td>7.815010</td>\n",
              "      <td>47.50</td>\n",
              "      <td>353</td>\n",
              "      <td>15.277778</td>\n",
              "      <td>7.439632</td>\n",
              "      <td>57.07</td>\n",
              "      <td>2013</td>\n",
              "      <td>16.555556</td>\n",
              "      <td>7.430337</td>\n",
              "      <td>52.76</td>\n",
              "    </tr>\n",
              "    <tr>\n",
              "      <th>89</th>\n",
              "      <td>5/29/2020</td>\n",
              "      <td>658</td>\n",
              "      <td>23.333333</td>\n",
              "      <td>7.939908</td>\n",
              "      <td>37.90</td>\n",
              "      <td>3325</td>\n",
              "      <td>19.833333</td>\n",
              "      <td>6.173384</td>\n",
              "      <td>36.08</td>\n",
              "      <td>593</td>\n",
              "      <td>16.666667</td>\n",
              "      <td>10.729687</td>\n",
              "      <td>75.68</td>\n",
              "      <td>741</td>\n",
              "      <td>14.611111</td>\n",
              "      <td>6.726599</td>\n",
              "      <td>53.74</td>\n",
              "      <td>1887</td>\n",
              "      <td>17.000000</td>\n",
              "      <td>7.371004</td>\n",
              "      <td>50.96</td>\n",
              "    </tr>\n",
              "    <tr>\n",
              "      <th>90</th>\n",
              "      <td>5/30/2020</td>\n",
              "      <td>664</td>\n",
              "      <td>24.888889</td>\n",
              "      <td>8.363331</td>\n",
              "      <td>36.55</td>\n",
              "      <td>597</td>\n",
              "      <td>18.888889</td>\n",
              "      <td>7.216972</td>\n",
              "      <td>44.59</td>\n",
              "      <td>516</td>\n",
              "      <td>15.666667</td>\n",
              "      <td>10.065205</td>\n",
              "      <td>75.41</td>\n",
              "      <td>738</td>\n",
              "      <td>13.777778</td>\n",
              "      <td>6.360621</td>\n",
              "      <td>53.48</td>\n",
              "      <td>2095</td>\n",
              "      <td>17.444444</td>\n",
              "      <td>8.151998</td>\n",
              "      <td>54.88</td>\n",
              "    </tr>\n",
              "    <tr>\n",
              "      <th>91</th>\n",
              "      <td>5/31/2020</td>\n",
              "      <td>201</td>\n",
              "      <td>22.444444</td>\n",
              "      <td>9.624550</td>\n",
              "      <td>48.34</td>\n",
              "      <td>1828</td>\n",
              "      <td>18.555556</td>\n",
              "      <td>6.666650</td>\n",
              "      <td>42.01</td>\n",
              "      <td>416</td>\n",
              "      <td>17.666667</td>\n",
              "      <td>9.776655</td>\n",
              "      <td>64.95</td>\n",
              "      <td>286</td>\n",
              "      <td>11.388889</td>\n",
              "      <td>6.953858</td>\n",
              "      <td>67.82</td>\n",
              "      <td>1604</td>\n",
              "      <td>18.333333</td>\n",
              "      <td>7.688243</td>\n",
              "      <td>49.09</td>\n",
              "    </tr>\n",
              "  </tbody>\n",
              "</table>\n",
              "<p>92 rows × 21 columns</p>\n",
              "</div>"
            ],
            "text/plain": [
              "         Date  ...  Relative_Humidity_UK\n",
              "0    3/1/2020  ...                 64.32\n",
              "1    3/2/2020  ...                 73.86\n",
              "2    3/3/2020  ...                 76.17\n",
              "3    3/4/2020  ...                 85.73\n",
              "4    3/5/2020  ...                 89.50\n",
              "..        ...  ...                   ...\n",
              "87  5/27/2020  ...                 54.81\n",
              "88  5/28/2020  ...                 52.76\n",
              "89  5/29/2020  ...                 50.96\n",
              "90  5/30/2020  ...                 54.88\n",
              "91  5/31/2020  ...                 49.09\n",
              "\n",
              "[92 rows x 21 columns]"
            ]
          },
          "metadata": {
            "tags": []
          },
          "execution_count": 1
        }
      ]
    },
    {
      "cell_type": "code",
      "metadata": {
        "id": "T7SUStcr0_rt",
        "colab_type": "code",
        "colab": {}
      },
      "source": [
        "#Read data to individual variables for ease and changed field names for functional programming\n",
        "Spain=data[['Date','Number_New_Cases_Spain','Temperature_Spain','Absolute_Humidity_Spain','Relative_Humidity_Spain']]\n",
        "Spain = Spain.rename(columns={'Number_New_Cases_Spain': 'Number_New_Cases','Temperature_Spain': 'Temperature','Absolute_Humidity_Spain': 'Absolute_Humidity','Relative_Humidity_Spain': 'Relative_Humidity'})\n",
        "France=data[['Date','Number_New_Cases_France','Temperature_France','Absolute_Humidity_France','Relative_Humidity_France']]\n",
        "France = France.rename(columns={'Number_New_Cases_France': 'Number_New_Cases','Temperature_France': 'Temperature','Absolute_Humidity_France': 'Absolute_Humidity','Relative_Humidity_France': 'Relative_Humidity'})\n",
        "Italy=data[['Date','Number_New_Cases_Italy','Temperature_Italy','Absolute_Humidity_Italy','Relative_Humidity_Italy']]\n",
        "Italy = Italy.rename(columns={'Number_New_Cases_Italy': 'Number_New_Cases','Temperature_Italy': 'Temperature','Absolute_Humidity_Italy': 'Absolute_Humidity','Relative_Humidity_Italy': 'Relative_Humidity'})\n",
        "Germany=data[['Date','Number_New_Cases_Germany','Temperature_Germany','Absolute_Humidity_Germany','Relative_Humidity_Germany']]\n",
        "Germany = Germany.rename(columns={'Number_New_Cases_Germany': 'Number_New_Cases','Temperature_Germany': 'Temperature','Absolute_Humidity_Germany': 'Absolute_Humidity','Relative_Humidity_Germany': 'Relative_Humidity'})\n",
        "UK=data[['Date','Number_New_Cases_UK','Temperature_UK','Absolute_Humidity_UK','Relative_Humidity_UK']]\n",
        "UK = UK.rename(columns={'Number_New_Cases_UK': 'Number_New_Cases','Temperature_UK': 'Temperature','Absolute_Humidity_UK': 'Absolute_Humidity','Relative_Humidity_UK': 'Relative_Humidity'})"
      ],
      "execution_count": 0,
      "outputs": []
    },
    {
      "cell_type": "code",
      "metadata": {
        "id": "B7m68t3S3UxC",
        "colab_type": "code",
        "colab": {}
      },
      "source": [
        "import warnings\n",
        "warnings.simplefilter(\"ignore\")\n",
        "from sklearn.model_selection import train_test_split\n",
        "from sklearn.linear_model import LogisticRegression    #imported model from the library\n",
        "from sklearn import metrics\n",
        "import numpy as np\n",
        "def model_prediction(frame):\n",
        "  X=frame[['Temperature','Absolute_Humidity','Relative_Humidity']]    #Dependent variables considered\n",
        "  y=frame[['Number_New_Cases']]     #Target variables considered\n",
        "  regressor = LogisticRegression()  #Called model\n",
        "  X_train, X_test, y_train, y_test = train_test_split(X, y,test_size=0.20,random_state=0)  #Splitted data 20 for test and  80 for train\n",
        "  regressor.fit(X_train,y_train)  #Fitting train data to model\n",
        "  y_pred = regressor.predict(X_test)   #Prediciting the values for dependent variables\n",
        "  y_pred=pd.DataFrame(y_pred,index=y_test.index,columns=['Predicted_New_Cases']) #converting to dataframe\n",
        "  df=pd.concat([y_pred,y_test],axis=1)  #Concatenation of prediction and actual fields\n",
        "def visualization(vframe):    \n",
        "  df=model_prediction(vframe)      #Called model defined function\n",
        "  print(df)    \n",
        "  df.plot(kind='bar',figsize=(14,6))   #Visualized the results\n",
        "  plt.grid(which='major', linestyle='-', linewidth='0.5', color='green')\n",
        "  plt.grid(which='minor', linestyle=':', linewidth='0.5', color='black')\n",
        "  plt.show()"
      ],
      "execution_count": 0,
      "outputs": []
    },
    {
      "cell_type": "markdown",
      "metadata": {
        "id": "RcdszPML4W9_",
        "colab_type": "text"
      },
      "source": [
        "Prediction values could have been better if there are more number of rows in the dataset."
      ]
    },
    {
      "cell_type": "code",
      "metadata": {
        "id": "kSxT5AzNCCHg",
        "colab_type": "code",
        "outputId": "8f600376-5392-45b5-b376-625c76b6f7fd",
        "colab": {
          "base_uri": "https://localhost:8080/",
          "height": 1000
        }
      },
      "source": [
        "print('\\n----------------------------------------------SPAIN---------------------------------------------')\n",
        "visualization(Spain)\n",
        "print('\\n----------------------------------------------France--------------------------------------------')\n",
        "visualization(France)\n",
        "print('\\n----------------------------------------------Italy---------------------------------------------')\n",
        "visualization(Italy)\n",
        "print('\\n----------------------------------------------Germany-------------------------------------------')\n",
        "visualization(Germany)\n",
        "print('\\n------------------------------------------------UK-----------------------------------------------')\n",
        "visualization(UK)"
      ],
      "execution_count": 0,
      "outputs": [
        {
          "output_type": "stream",
          "text": [
            "\n",
            "----------------------------------------------SPAIN---------------------------------------------\n",
            "    Predicted_New_Cases  Number_New_Cases\n",
            "2                  7413                56\n",
            "33                 8954              7272\n",
            "22                 5446              4646\n",
            "16                 4537              2503\n",
            "13                  482              1683\n",
            "24                 7691              8553\n",
            "60                 1387              1241\n",
            "76                 1387               515\n",
            "80                  466               518\n",
            "68                  482              1173\n",
            "45                 5209              4424\n",
            "7                  7583               330\n",
            "26                 1706              9181\n",
            "79                  466               431\n",
            "42                  482              3899\n",
            "63                  482               935\n",
            "8                  6424               433\n",
            "87                  466               510\n",
            "51                 4537              2951\n"
          ],
          "name": "stdout"
        },
        {
          "output_type": "display_data",
          "data": {
            "image/png": "[encoded data removed]",
            "text/plain": [
              "<Figure size 1008x432 with 1 Axes>"
            ]
          },
          "metadata": {
            "tags": [],
            "needs_background": "light"
          }
        },
        {
          "output_type": "stream",
          "text": [
            "\n",
            "----------------------------------------------France--------------------------------------------\n",
            "    Predicted_New_Cases  Number_New_Cases\n",
            "2                    34                48\n",
            "33                  838              2116\n",
            "22                 7578              1559\n",
            "16                 1065              1210\n",
            "13                   73               785\n",
            "24                 2931              2446\n",
            "60                  286              1607\n",
            "76                 1537               563\n",
            "80                  318               524\n",
            "68                 1653               629\n",
            "45                 4267              5497\n",
            "7                    73               103\n",
            "26                 2673              3922\n",
            "79                 1653               492\n",
            "42                 4286              3114\n",
            "63                  372               794\n",
            "8                    73               410\n",
            "87                  418               276\n",
            "51                 4183              2051\n"
          ],
          "name": "stdout"
        },
        {
          "output_type": "display_data",
          "data": {
            "image/png": "[encoded data removed]",
            "text/plain": [
              "<Figure size 1008x432 with 1 Axes>"
            ]
          },
          "metadata": {
            "tags": [],
            "needs_background": "light"
          }
        },
        {
          "output_type": "stream",
          "text": [
            "\n",
            "----------------------------------------------Italy---------------------------------------------\n",
            "    Predicted_New_Cases  Number_New_Cases\n",
            "2                   587               347\n",
            "33                  466              4668\n",
            "22                 4053              5560\n",
            "16                  778              4000\n",
            "13                 2651              2547\n",
            "24                 4789              5249\n",
            "60                 3370              2086\n",
            "76                  888               789\n",
            "80                 1075               813\n",
            "68                 1327              1401\n",
            "45                 4585              2972\n",
            "7                  4053              1247\n",
            "26                 2651              6153\n",
            "79                  675               451\n",
            "42                 3021              4694\n",
            "63                 1075              1900\n",
            "8                   466              1492\n",
            "87                  642               397\n",
            "51                 3047              2256\n"
          ],
          "name": "stdout"
        },
        {
          "output_type": "display_data",
          "data": {
            "image/png": "[encoded data removed]",
            "text/plain": [
              "<Figure size 1008x432 with 1 Axes>"
            ]
          },
          "metadata": {
            "tags": [],
            "needs_background": "light"
          }
        },
        {
          "output_type": "stream",
          "text": [
            "\n",
            "----------------------------------------------Germany-------------------------------------------\n",
            "    Predicted_New_Cases  Number_New_Cases\n",
            "2                   138                28\n",
            "33                  933              6174\n",
            "22                 4751              3311\n",
            "16                  933              1174\n",
            "13                  284               693\n",
            "24                  933              2342\n",
            "60                  431              1478\n",
            "76                 1144               620\n",
            "80                 1144               797\n",
            "68                 1144              1209\n",
            "45                  933              2486\n",
            "7                   138               163\n",
            "26                 2458              5780\n",
            "79                  638               513\n",
            "42                 1144              2821\n",
            "63                  289               793\n",
            "8                   357                55\n",
            "87                 1144               362\n",
            "51                 1144              1785\n"
          ],
          "name": "stdout"
        },
        {
          "output_type": "display_data",
          "data": {
            "image/png": "[encoded data removed]",
            "text/plain": [
              "<Figure size 1008x432 with 1 Axes>"
            ]
          },
          "metadata": {
            "tags": [],
            "needs_background": "light"
          }
        },
        {
          "output_type": "stream",
          "text": [
            "\n",
            "------------------------------------------------UK-----------------------------------------------\n",
            "    Predicted_New_Cases  Number_New_Cases\n",
            "2                    11                 4\n",
            "33                 4450              4244\n",
            "22                 2885               665\n",
            "16                   48               152\n",
            "13                   48               117\n",
            "24                 1452              1427\n",
            "60                   48              4076\n",
            "76                 4301              3560\n",
            "80                 2006              2412\n",
            "68                 2405              5514\n",
            "45                 3985              5252\n",
            "7                    48                43\n",
            "26                   83              2129\n",
            "79                 2405              2711\n",
            "42                 4649              8719\n",
            "63                 4339              4806\n",
            "8                    48                67\n",
            "87                 1625              4043\n",
            "51                 3735              4676\n"
          ],
          "name": "stdout"
        },
        {
          "output_type": "display_data",
          "data": {
            "image/png": "[encoded data removed]",
            "text/plain": [
              "<Figure size 1008x432 with 1 Axes>"
            ]
          },
          "metadata": {
            "tags": [],
            "needs_background": "light"
          }
        }
      ]
    },
    {
      "cell_type": "code",
      "metadata": {
        "id": "AhxE2yhDBa4Z",
        "colab_type": "code",
        "colab": {}
      },
      "source": [
        ""
      ],
      "execution_count": 0,
      "outputs": []
    },
    {
      "cell_type": "code",
      "metadata": {
        "id": "MQM8r2BGnjk-",
        "colab_type": "code",
        "colab": {}
      },
      "source": [
        ""
      ],
      "execution_count": 0,
      "outputs": []
    },
    {
      "cell_type": "code",
      "metadata": {
        "id": "sZetpGznoMP2",
        "colab_type": "code",
        "colab": {}
      },
      "source": [
        ""
      ],
      "execution_count": 0,
      "outputs": []
    },
    {
      "cell_type": "code",
      "metadata": {
        "id": "xOudEF5RBb9T",
        "colab_type": "code",
        "colab": {}
      },
      "source": [
        ""
      ],
      "execution_count": 0,
      "outputs": []
    },
    {
      "cell_type": "code",
      "metadata": {
        "id": "nxZiuqu39EIy",
        "colab_type": "code",
        "colab": {}
      },
      "source": [
        ""
      ],
      "execution_count": 0,
      "outputs": []
    },
    {
      "cell_type": "code",
      "metadata": {
        "id": "LEUp4Q8O9Hy9",
        "colab_type": "code",
        "colab": {}
      },
      "source": [
        ""
      ],
      "execution_count": 0,
      "outputs": []
    },
    {
      "cell_type": "code",
      "metadata": {
        "id": "QxJOCom3QeAJ",
        "colab_type": "code",
        "colab": {}
      },
      "source": [
        ""
      ],
      "execution_count": 0,
      "outputs": []
    },
    {
      "cell_type": "code",
      "metadata": {
        "id": "kqlOhZefYhbE",
        "colab_type": "code",
        "colab": {}
      },
      "source": [
        ""
      ],
      "execution_count": 0,
      "outputs": []
    },
    {
      "cell_type": "code",
      "metadata": {
        "id": "Lz__Ws59ao-2",
        "colab_type": "code",
        "colab": {}
      },
      "source": [
        ""
      ],
      "execution_count": 0,
      "outputs": []
    },
    {
      "cell_type": "code",
      "metadata": {
        "id": "pCwnuoC3kdfC",
        "colab_type": "code",
        "colab": {}
      },
      "source": [
        ""
      ],
      "execution_count": 0,
      "outputs": []
    },
    {
      "cell_type": "code",
      "metadata": {
        "id": "1iNPTGN9bNVp",
        "colab_type": "code",
        "colab": {}
      },
      "source": [
        ""
      ],
      "execution_count": 0,
      "outputs": []
    },
    {
      "cell_type": "code",
      "metadata": {
        "id": "pQ7wyA9wdSlS",
        "colab_type": "code",
        "colab": {}
      },
      "source": [
        ""
      ],
      "execution_count": 0,
      "outputs": []
    },
    {
      "cell_type": "code",
      "metadata": {
        "id": "p1rw8ZiLdW-e",
        "colab_type": "code",
        "colab": {}
      },
      "source": [
        ""
      ],
      "execution_count": 0,
      "outputs": []
    },
    {
      "cell_type": "code",
      "metadata": {
        "id": "PneKK065daiJ",
        "colab_type": "code",
        "colab": {}
      },
      "source": [
        ""
      ],
      "execution_count": 0,
      "outputs": []
    },
    {
      "cell_type": "code",
      "metadata": {
        "id": "uxMpZCahddyf",
        "colab_type": "code",
        "colab": {}
      },
      "source": [
        ""
      ],
      "execution_count": 0,
      "outputs": []
    },
    {
      "cell_type": "code",
      "metadata": {
        "id": "Vb1LcTk_ecPn",
        "colab_type": "code",
        "colab": {}
      },
      "source": [
        ""
      ],
      "execution_count": 0,
      "outputs": []
    },
    {
      "cell_type": "code",
      "metadata": {
        "id": "UJmVkitCe018",
        "colab_type": "code",
        "colab": {}
      },
      "source": [
        ""
      ],
      "execution_count": 0,
      "outputs": []
    },
    {
      "cell_type": "code",
      "metadata": {
        "id": "8C4-f19Ye6vD",
        "colab_type": "code",
        "colab": {}
      },
      "source": [
        ""
      ],
      "execution_count": 0,
      "outputs": []
    }
  ]
}